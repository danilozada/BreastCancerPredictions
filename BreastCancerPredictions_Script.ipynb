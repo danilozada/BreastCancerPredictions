{
 "cells": [
  {
   "cell_type": "code",
   "execution_count": 87,
   "id": "8ee467f8",
   "metadata": {},
   "outputs": [],
   "source": [
    "import pandas as pd\n",
    "import numpy as np\n",
    "import matplotlib.pyplot as plt\n",
    "import seaborn as sns\n",
    "import random\n",
    "pd.options.mode.chained_assignment = None \n",
    "from sklearn.svm import SVC\n",
    "from sklearn.model_selection import train_test_split\n",
    "from sklearn.metrics import accuracy_score, confusion_matrix, classification_report\n",
    "from sklearn.linear_model import LogisticRegression\n",
    "from sklearn.ensemble import RandomForestClassifier"
   ]
  },
  {
   "cell_type": "code",
   "execution_count": 2,
   "id": "004d8f1d",
   "metadata": {},
   "outputs": [
    {
     "data": {
      "text/html": [
       "<div>\n",
       "<style scoped>\n",
       "    .dataframe tbody tr th:only-of-type {\n",
       "        vertical-align: middle;\n",
       "    }\n",
       "\n",
       "    .dataframe tbody tr th {\n",
       "        vertical-align: top;\n",
       "    }\n",
       "\n",
       "    .dataframe thead th {\n",
       "        text-align: right;\n",
       "    }\n",
       "</style>\n",
       "<table border=\"1\" class=\"dataframe\">\n",
       "  <thead>\n",
       "    <tr style=\"text-align: right;\">\n",
       "      <th></th>\n",
       "      <th>Index</th>\n",
       "      <th>BI_RADS</th>\n",
       "      <th>Age</th>\n",
       "      <th>Shape</th>\n",
       "      <th>Margin</th>\n",
       "      <th>Mass_Density</th>\n",
       "      <th>Severity</th>\n",
       "    </tr>\n",
       "  </thead>\n",
       "  <tbody>\n",
       "    <tr>\n",
       "      <th>0</th>\n",
       "      <td>1</td>\n",
       "      <td>5.0</td>\n",
       "      <td>67.0</td>\n",
       "      <td>lobular</td>\n",
       "      <td>spiculated</td>\n",
       "      <td>low</td>\n",
       "      <td>1</td>\n",
       "    </tr>\n",
       "    <tr>\n",
       "      <th>1</th>\n",
       "      <td>2</td>\n",
       "      <td>4.0</td>\n",
       "      <td>43.0</td>\n",
       "      <td>round</td>\n",
       "      <td>circumscribed</td>\n",
       "      <td>NaN</td>\n",
       "      <td>1</td>\n",
       "    </tr>\n",
       "    <tr>\n",
       "      <th>2</th>\n",
       "      <td>3</td>\n",
       "      <td>5.0</td>\n",
       "      <td>58.0</td>\n",
       "      <td>irregular</td>\n",
       "      <td>spiculated</td>\n",
       "      <td>low</td>\n",
       "      <td>1</td>\n",
       "    </tr>\n",
       "    <tr>\n",
       "      <th>3</th>\n",
       "      <td>4</td>\n",
       "      <td>4.0</td>\n",
       "      <td>28.0</td>\n",
       "      <td>round</td>\n",
       "      <td>circumscribed</td>\n",
       "      <td>low</td>\n",
       "      <td>0</td>\n",
       "    </tr>\n",
       "    <tr>\n",
       "      <th>4</th>\n",
       "      <td>5</td>\n",
       "      <td>5.0</td>\n",
       "      <td>74.0</td>\n",
       "      <td>round</td>\n",
       "      <td>spiculated</td>\n",
       "      <td>NaN</td>\n",
       "      <td>1</td>\n",
       "    </tr>\n",
       "  </tbody>\n",
       "</table>\n",
       "</div>"
      ],
      "text/plain": [
       "   Index  BI_RADS   Age      Shape         Margin Mass_Density  Severity\n",
       "0      1      5.0  67.0    lobular     spiculated          low         1\n",
       "1      2      4.0  43.0      round  circumscribed          NaN         1\n",
       "2      3      5.0  58.0  irregular     spiculated          low         1\n",
       "3      4      4.0  28.0      round  circumscribed          low         0\n",
       "4      5      5.0  74.0      round     spiculated          NaN         1"
      ]
     },
     "execution_count": 2,
     "metadata": {},
     "output_type": "execute_result"
    }
   ],
   "source": [
    "# Import training data set\n",
    "df = pd.read_excel('Train.xlsx')\n",
    "df.head(5)"
   ]
  },
  {
   "cell_type": "code",
   "execution_count": 3,
   "id": "489219db",
   "metadata": {},
   "outputs": [
    {
     "data": {
      "text/plain": [
       "(811, 7)"
      ]
     },
     "execution_count": 3,
     "metadata": {},
     "output_type": "execute_result"
    }
   ],
   "source": [
    "# Dataframe shape\n",
    "df.shape"
   ]
  },
  {
   "cell_type": "code",
   "execution_count": 4,
   "id": "7e8e59d0",
   "metadata": {},
   "outputs": [
    {
     "data": {
      "text/plain": [
       "Index             int64\n",
       "BI_RADS         float64\n",
       "Age             float64\n",
       "Shape            object\n",
       "Margin           object\n",
       "Mass_Density     object\n",
       "Severity          int64\n",
       "dtype: object"
      ]
     },
     "execution_count": 4,
     "metadata": {},
     "output_type": "execute_result"
    }
   ],
   "source": [
    "# Data types\n",
    "df.dtypes"
   ]
  },
  {
   "cell_type": "code",
   "execution_count": 5,
   "id": "555ed0ff",
   "metadata": {},
   "outputs": [],
   "source": [
    "# Drop index and BI_RADS\n",
    "df = df.drop(['Index', 'BI_RADS'], axis=1)"
   ]
  },
  {
   "cell_type": "code",
   "execution_count": 6,
   "id": "fc1d668c",
   "metadata": {},
   "outputs": [
    {
     "name": "stdout",
     "output_type": "stream",
     "text": [
      "<class 'pandas.core.frame.DataFrame'>\n",
      "RangeIndex: 811 entries, 0 to 810\n",
      "Data columns (total 5 columns):\n",
      " #   Column        Non-Null Count  Dtype  \n",
      "---  ------        --------------  -----  \n",
      " 0   Age           723 non-null    float64\n",
      " 1   Shape         781 non-null    object \n",
      " 2   Margin        764 non-null    object \n",
      " 3   Mass_Density  735 non-null    object \n",
      " 4   Severity      811 non-null    int64  \n",
      "dtypes: float64(1), int64(1), object(3)\n",
      "memory usage: 31.8+ KB\n"
     ]
    }
   ],
   "source": [
    "# Dataframe info\n",
    "df.info()"
   ]
  },
  {
   "cell_type": "code",
   "execution_count": 7,
   "id": "fff390ca",
   "metadata": {},
   "outputs": [
    {
     "name": "stdout",
     "output_type": "stream",
     "text": [
      "The Age predictor has 88 null values\n",
      "The Shape predictor has 30 null values\n",
      "The Margin predictor has 47 null values\n",
      "The Mass_Density predictor has 76 null values\n"
     ]
    }
   ],
   "source": [
    "# Null value counts for entire dataframe\n",
    "predictors = list(df.columns)[:-1]\n",
    "for p in predictors:\n",
    "    n = df[p].isnull().sum()\n",
    "    print(f'The {p} predictor has {n} null values')"
   ]
  },
  {
   "cell_type": "code",
   "execution_count": 8,
   "id": "06a93fb7",
   "metadata": {},
   "outputs": [
    {
     "data": {
      "text/plain": [
       "count    723.000000\n",
       "mean      55.887967\n",
       "std       16.886616\n",
       "min        5.000000\n",
       "25%       45.000000\n",
       "50%       56.000000\n",
       "75%       66.000000\n",
       "max      130.000000\n",
       "Name: Age, dtype: float64"
      ]
     },
     "execution_count": 8,
     "metadata": {},
     "output_type": "execute_result"
    }
   ],
   "source": [
    "# Dataframe describe Age variable\n",
    "df['Age'].describe()"
   ]
  },
  {
   "cell_type": "code",
   "execution_count": 9,
   "id": "d732fefd",
   "metadata": {},
   "outputs": [
    {
     "data": {
      "text/plain": [
       "Text(0.5, 1.0, 'Boxplot of Age Variable')"
      ]
     },
     "execution_count": 9,
     "metadata": {},
     "output_type": "execute_result"
    },
    {
     "data": {
      "image/png": "[encoded data removed]",
      "text/plain": [
       "<Figure size 432x288 with 1 Axes>"
      ]
     },
     "metadata": {
      "needs_background": "light"
     },
     "output_type": "display_data"
    }
   ],
   "source": [
    "# Create boxplot of Age data\n",
    "df.boxplot(column = 'Age') # Need to handle age outliers later\n",
    "plt.title('Boxplot of Age Variable')"
   ]
  },
  {
   "cell_type": "code",
   "execution_count": 10,
   "id": "14cd9432",
   "metadata": {},
   "outputs": [
    {
     "data": {
      "image/png": "[encoded data removed]",
      "text/plain": [
       "<Figure size 720x720 with 4 Axes>"
      ]
     },
     "metadata": {
      "needs_background": "light"
     },
     "output_type": "display_data"
    }
   ],
   "source": [
    "# Plot count values for qualitative data from entire dataframe\n",
    "fig, axs = plt.subplots(2, 2)\n",
    "df['Shape'].value_counts().plot.bar(ax = axs[0,0], rot=45)\n",
    "axs[0,0].set_title('Shape Counts')\n",
    "df['Margin'].value_counts().plot.bar(ax = axs[0,1], rot=45)\n",
    "axs[0,1].set_title('Margin Counts')\n",
    "df['Mass_Density'].value_counts().plot.bar(ax = axs[1,0], rot=45)\n",
    "axs[1,0].set_title('Mass Density Counts')\n",
    "df['Severity'].value_counts().plot.bar(ax = axs[1,1], rot=45)\n",
    "axs[1,1].set_title('Severity Counts')\n",
    "axs[1,1].set_xticklabels(('Benign', 'Malignant'))\n",
    "#plt.tight_layout()\n",
    "fig.set_figheight(10)\n",
    "fig.set_figwidth(10)\n",
    "plt.tight_layout()"
   ]
  },
  {
   "cell_type": "code",
   "execution_count": 11,
   "id": "2c3c940d",
   "metadata": {},
   "outputs": [
    {
     "data": {
      "image/png": "[encoded data removed]",
      "text/plain": [
       "<Figure size 720x360 with 3 Axes>"
      ]
     },
     "metadata": {
      "needs_background": "light"
     },
     "output_type": "display_data"
    }
   ],
   "source": [
    "# Plot count data from benign tumors\n",
    "ben_df = df[df['Severity'] == 0].reset_index(drop=True)\n",
    "fig, axs = plt.subplots(1, 3)\n",
    "ben_df['Shape'].value_counts().plot.bar(ax = axs[0], rot=45)\n",
    "axs[0].set_title('Shape Counts')\n",
    "ben_df['Margin'].value_counts().plot.bar(ax = axs[1], rot=45)\n",
    "axs[1].set_title('Margin Counts')\n",
    "ben_df['Mass_Density'].value_counts().plot.bar(ax = axs[2], rot=45)\n",
    "axs[2].set_title('Mass Density Counts')\n",
    "fig.set_figheight(5)\n",
    "fig.set_figwidth(10)\n",
    "plt.suptitle('Benign Tumor Counts')\n",
    "plt.tight_layout()"
   ]
  },
  {
   "cell_type": "code",
   "execution_count": 12,
   "id": "871c145d",
   "metadata": {},
   "outputs": [
    {
     "data": {
      "image/png": "[encoded data removed]",
      "text/plain": [
       "<Figure size 720x360 with 3 Axes>"
      ]
     },
     "metadata": {
      "needs_background": "light"
     },
     "output_type": "display_data"
    }
   ],
   "source": [
    "# Plot count data from malignant tumors\n",
    "mal_df = df[df['Severity'] == 1].reset_index(drop=True)\n",
    "fig, axs = plt.subplots(1, 3)\n",
    "mal_df['Shape'].value_counts().plot.bar(ax = axs[0], rot=45)\n",
    "axs[0].set_title('Shape Counts')\n",
    "mal_df['Margin'].value_counts().plot.bar(ax = axs[1], rot=45)\n",
    "axs[1].set_title('Margin Counts')\n",
    "mal_df['Mass_Density'].value_counts().plot.bar(ax = axs[2], rot=45)\n",
    "axs[2].set_title('Mass Density Counts')\n",
    "fig.set_figheight(5)\n",
    "fig.set_figwidth(10)\n",
    "plt.suptitle('Malignant Tumor Counts')\n",
    "plt.tight_layout()"
   ]
  },
  {
   "cell_type": "code",
   "execution_count": 13,
   "id": "18d6dbb0",
   "metadata": {},
   "outputs": [],
   "source": [
    "# Address outlier ages by replacing with the average age given benign or malignant diagnosis\n",
    "ben_avg_age = round(ben_df[(ben_df['Age'] >6) & (ben_df['Age'] <129)]['Age'].mean(),0)\n",
    "mal_avg_age = round(mal_df[(mal_df['Age'] > 6) & (mal_df['Age'] < 129)]['Age'].mean(),0)\n",
    "\n",
    "# Replace 5, 130, and null values ages with average\n",
    "ben_df['Age'] = ben_df['Age'].replace([5,130, np.nan], ben_avg_age)\n",
    "mal_df['Age'] = mal_df['Age'].replace([5,130, np.nan], mal_avg_age)"
   ]
  },
  {
   "cell_type": "code",
   "execution_count": 14,
   "id": "90e3d109",
   "metadata": {},
   "outputs": [],
   "source": [
    "# Replace null values for Shapes\n",
    "\n",
    "# For benign, randomly assign round or oval\n",
    "ben_shape = ['round', 'oval']\n",
    "\n",
    "for i, v in ben_df['Shape'].iteritems():\n",
    "    if pd.isnull(v):\n",
    "        n = np.random.choice(ben_shape)\n",
    "        ben_df['Shape'][i] = n\n",
    "        \n",
    "# For malignant, assign irregular\n",
    "mal_df['Shape'] = mal_df['Shape'].replace(np.nan, 'irregular')"
   ]
  },
  {
   "cell_type": "code",
   "execution_count": 15,
   "id": "ed8271a5",
   "metadata": {},
   "outputs": [],
   "source": [
    "# Replace null values for Margin\n",
    "\n",
    "# For benign, assign circumscribed\n",
    "ben_df['Margin'] = ben_df['Margin'].replace(np.nan, 'circumscribed')\n",
    "\n",
    "# For malignant, randomly assign ill-defined or spiculated\n",
    "mal_margin = ['ill-defined', 'spiculated']\n",
    "\n",
    "for i, v in mal_df['Margin'].iteritems():\n",
    "    if pd.isnull(v):\n",
    "        n = np.random.choice(mal_margin)\n",
    "        mal_df['Margin'][i] = n"
   ]
  },
  {
   "cell_type": "code",
   "execution_count": 16,
   "id": "97b7961e",
   "metadata": {},
   "outputs": [],
   "source": [
    "# Replace null values for mass density with low\n",
    "ben_df['Mass_Density'] = ben_df['Mass_Density'].replace(np.nan, 'low')\n",
    "mal_df['Mass_Density'] = mal_df['Mass_Density'].replace(np.nan, 'low')"
   ]
  },
  {
   "cell_type": "code",
   "execution_count": 17,
   "id": "e8a9f99d",
   "metadata": {},
   "outputs": [],
   "source": [
    "# Combine benign and malignant dataframes\n",
    "new_df = pd.concat([ben_df, mal_df]).reset_index(drop=True)\n",
    "\n",
    "# Shuffle rows\n",
    "new_df = new_df.sample(frac=1).reset_index(drop=True)"
   ]
  },
  {
   "cell_type": "code",
   "execution_count": 54,
   "id": "d3e205e9",
   "metadata": {},
   "outputs": [],
   "source": [
    "# Create dummy variables and training data frame\n",
    "shape_dums = pd.get_dummies(new_df['Shape'], drop_first=True)\n",
    "margin_dums = pd.get_dummies(new_df['Margin'], drop_first=True)\n",
    "mass_dums = pd.get_dummies(new_df['Mass_Density'], drop_first=True)\n",
    "sev_dums = pd.get_dummies(new_df['Severity'], drop_first=True)\n",
    "\n",
    "train_set = pd.concat([new_df, shape_dums, margin_dums, mass_dums, sev_dums], axis=1)\n",
    "train_set.drop(['Shape', 'Margin', 'Mass_Density', 'Severity'], inplace = True, axis=1)\n",
    "train_set.rename(columns = {'1' : 'Severity'}, inplace = True)"
   ]
  },
  {
   "cell_type": "code",
   "execution_count": 61,
   "id": "2534cfda",
   "metadata": {},
   "outputs": [],
   "source": [
    "# Create training and test data sets\n",
    "y = train_set.iloc[:, -1]\n",
    "x = train_set.iloc[:, :-1]\n",
    "\n",
    "x_train, x_test, y_train, y_test = train_test_split(x, y, test_size = 0.2, random_state = 100)"
   ]
  },
  {
   "cell_type": "code",
   "execution_count": 82,
   "id": "e7d5a5c2",
   "metadata": {},
   "outputs": [
    {
     "name": "stdout",
     "output_type": "stream",
     "text": [
      "The accuracy score is 0.74.\n",
      "\n",
      "The confusion matrix for the model: \n",
      " [[71 19]\n",
      " [24 49]]\n",
      "\n",
      "The classification report:\n",
      "               precision    recall  f1-score   support\n",
      "\n",
      "           0       0.75      0.79      0.77        90\n",
      "           1       0.72      0.67      0.70        73\n",
      "\n",
      "    accuracy                           0.74       163\n",
      "   macro avg       0.73      0.73      0.73       163\n",
      "weighted avg       0.74      0.74      0.74       163\n",
      "\n"
     ]
    }
   ],
   "source": [
    "# Support Vector Machine\n",
    "model = SVC()\n",
    "model.fit(x_train, y_train)\n",
    "preds = model.predict(x_test)\n",
    "print(f'The accuracy score is {round(accuracy_score(y_test, preds),2)}.\\n')\n",
    "print('The confusion matrix for the model: \\n', confusion_matrix(y_test, preds))\n",
    "print('\\nThe classification report:\\n', classification_report(y_test, preds))"
   ]
  },
  {
   "cell_type": "code",
   "execution_count": 94,
   "id": "094d3818",
   "metadata": {},
   "outputs": [
    {
     "name": "stdout",
     "output_type": "stream",
     "text": [
      "The accuracy score is 0.85.\n",
      "\n",
      "The confusion matrix for the model: \n",
      " [[79 11]\n",
      " [14 59]]\n",
      "\n",
      "The classification report:\n",
      "               precision    recall  f1-score   support\n",
      "\n",
      "           0       0.85      0.88      0.86        90\n",
      "           1       0.84      0.81      0.83        73\n",
      "\n",
      "    accuracy                           0.85       163\n",
      "   macro avg       0.85      0.84      0.84       163\n",
      "weighted avg       0.85      0.85      0.85       163\n",
      "\n"
     ]
    }
   ],
   "source": [
    "# Random Forest\n",
    "clf = RandomForestClassifier(min_samples_leaf =3, random_state=0)\n",
    "clf.fit(x_train, y_train)\n",
    "preds = clf.predict(x_test)\n",
    "print(f'The accuracy score is {round(accuracy_score(y_test, preds),2)}.\\n')\n",
    "print('The confusion matrix for the model: \\n', confusion_matrix(y_test, preds))\n",
    "print('\\nThe classification report:\\n', classification_report(y_test, preds))"
   ]
  }
 ],
 "metadata": {
  "kernelspec": {
   "display_name": "Python 3 (ipykernel)",
   "language": "python",
   "name": "python3"
  },
  "language_info": {
   "codemirror_mode": {
    "name": "ipython",
    "version": 3
   },
   "file_extension": ".py",
   "mimetype": "text/x-python",
   "name": "python",
   "nbconvert_exporter": "python",
   "pygments_lexer": "ipython3",
   "version": "3.9.12"
  }
 },
 "nbformat": 4,
 "nbformat_minor": 5
}
